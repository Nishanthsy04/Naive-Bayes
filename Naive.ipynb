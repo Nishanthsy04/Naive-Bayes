{
 "cells": [
  {
   "cell_type": "code",
   "execution_count": 4,
   "id": "fbab3ef5",
   "metadata": {},
   "outputs": [
    {
     "name": "stdout",
     "output_type": "stream",
     "text": [
      "The Actual values are:\n",
      "[0, 1, 0, 1, 1]\n",
      "The Predicted values are:\n",
      "[1, 1, 1, 1, 1]\n",
      "Accuracy: 0.6\n"
     ]
    }
   ],
   "source": [
    "import pandas as pd\n",
    "from sklearn.preprocessing import LabelEncoder\n",
    "from sklearn.model_selection import train_test_split\n",
    "from sklearn.naive_bayes import GaussianNB\n",
    "from sklearn.metrics import accuracy_score\n",
    "\n",
    "df = pd.read_csv('data.csv')\n",
    "df_encoded = df.apply(LabelEncoder().fit_transform)\n",
    "data = df_encoded.drop(['Class'], axis=1)\n",
    "target = df_encoded['Class']\n",
    "\n",
    "x_train, x_test, y_train, y_test = train_test_split(data, target,test_size=0.30)\n",
    "model = GaussianNB()\n",
    "\n",
    "model.fit(x_train, y_train)\n",
    "y_pred = model.predict(x_test)\n",
    "\n",
    "print(f'The Actual values are:\\n{list(y_test)}')\n",
    "print(f'The Predicted values are:\\n{list(y_pred)}')\n",
    "print(\"Accuracy:\", accuracy_score(y_pred, y_test))"
   ]
  },
  {
   "cell_type": "code",
   "execution_count": null,
   "id": "d0e80c4e",
   "metadata": {},
   "outputs": [],
   "source": []
  }
 ],
 "metadata": {
  "kernelspec": {
   "display_name": "Python 3",
   "language": "python",
   "name": "python3"
  },
  "language_info": {
   "codemirror_mode": {
    "name": "ipython",
    "version": 3
   },
   "file_extension": ".py",
   "mimetype": "text/x-python",
   "name": "python",
   "nbconvert_exporter": "python",
   "pygments_lexer": "ipython3",
   "version": "3.8.8"
  }
 },
 "nbformat": 4,
 "nbformat_minor": 5
}
